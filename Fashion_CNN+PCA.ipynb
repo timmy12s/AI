{
  "nbformat": 4,
  "nbformat_minor": 0,
  "metadata": {
    "accelerator": "GPU",
    "colab": {
      "name": "Fashion_CNN+PCA.ipynb",
      "provenance": []
    },
    "kernelspec": {
      "display_name": "Python 3",
      "name": "python3"
    },
    "language_info": {
      "name": "python"
    }
  },
  "cells": [
    {
      "cell_type": "markdown",
      "metadata": {
        "id": "LHhR2T5JTzhr"
      },
      "source": [
        "Timoteus Sindhikara - 2301869014 - Fashion dataset - CNN + PCA\n"
      ]
    },
    {
      "cell_type": "code",
      "metadata": {
        "id": "vPFcHn5CD1M2"
      },
      "source": [
        "from sklearn.preprocessing import StandardScaler\n",
        "from sklearn.decomposition import PCA\n",
        "from tensorflow.keras.models import Sequential\n",
        "from tensorflow.keras.layers import Dense, Conv2D, Flatten\n",
        "from tensorflow.keras.utils import to_categorical\n",
        "from tensorflow.keras.datasets import fashion_mnist\n",
        "from sklearn.model_selection import train_test_split\n",
        "from sklearn.metrics import accuracy_score\n",
        "import matplotlib.pyplot as plt"
      ],
      "execution_count": 1,
      "outputs": []
    },
    {
      "cell_type": "code",
      "metadata": {
        "id": "q7ZO7xs8RQfc"
      },
      "source": [
        "#Dataset Fashion MNIST\n",
        "(x_train, y_train), (x_test, y_test) = fashion_mnist.load_data()"
      ],
      "execution_count": 2,
      "outputs": []
    },
    {
      "cell_type": "code",
      "metadata": {
        "colab": {
          "base_uri": "https://localhost:8080/",
          "height": 283
        },
        "id": "1xK7_obDWti4",
        "outputId": "d528990c-d64a-4d76-f37b-e065248e2f7c"
      },
      "source": [
        "#First image of the dataset\n",
        "plt.imshow(x_train[0])"
      ],
      "execution_count": 3,
      "outputs": [
        {
          "output_type": "execute_result",
          "data": {
            "text/plain": [
              "<matplotlib.image.AxesImage at 0x7f50fa0ee150>"
            ]
          },
          "metadata": {
            "tags": []
          },
          "execution_count": 3
        },
        {
          "output_type": "display_data",
          "data": {
            "image/png": "[encoded data removed]",
            "text/plain": [
              "<Figure size 432x288 with 1 Axes>"
            ]
          },
          "metadata": {
            "tags": [],
            "needs_background": "light"
          }
        }
      ]
    },
    {
      "cell_type": "code",
      "metadata": {
        "id": "ZvXWmvNshMDX"
      },
      "source": [
        "#Preprocessing\n",
        "scaler = StandardScaler()\n",
        "\n",
        "x_train = scaler.fit_transform(x_train.reshape(60000,-1))\n",
        "x_test = scaler.fit_transform(x_test.reshape(10000,-1))\n",
        "\n",
        "#Split training testing\n",
        "x_test, x_val, y_test, y_val= train_test_split(x_test, y_test, test_size=0.25)"
      ],
      "execution_count": 4,
      "outputs": []
    },
    {
      "cell_type": "code",
      "metadata": {
        "id": "xMt_z1w8KI-A"
      },
      "source": [
        "#Add PCA\n",
        "pca = PCA(n_components=400)\n",
        "pca = pca.fit(x_train)\n",
        "x_train = pca.transform(x_train)\n",
        "x_test = pca.transform(x_test)"
      ],
      "execution_count": 5,
      "outputs": []
    },
    {
      "cell_type": "code",
      "metadata": {
        "id": "mY11jzpCRyyx"
      },
      "source": [
        "#Reshape to match with pca\n",
        "x_train = x_train.reshape(-1, 20, 20, 1)\n",
        "x_test = x_test.reshape(-1, 20, 20, 1)"
      ],
      "execution_count": 6,
      "outputs": []
    },
    {
      "cell_type": "code",
      "metadata": {
        "id": "TZnmTSd-EiQR"
      },
      "source": [
        "#Encode target\n",
        "y_train = to_categorical(y_train)\n",
        "y_test = to_categorical(y_test)"
      ],
      "execution_count": 7,
      "outputs": []
    },
    {
      "cell_type": "code",
      "metadata": {
        "id": "G3uD76-WG0TF"
      },
      "source": [
        "# The Model\n",
        "model = Sequential()"
      ],
      "execution_count": 8,
      "outputs": []
    },
    {
      "cell_type": "code",
      "metadata": {
        "id": "T5k6AM7eUToO"
      },
      "source": [
        "# Layer of the model\n",
        "model.add(Conv2D(64, kernel_size=3, activation='relu', input_shape=(20,20,1)))\n",
        "model.add(Conv2D(32, kernel_size=3, activation='relu'))\n",
        "model.add(Flatten())\n",
        "model.add(Dense(10, activation='softmax'))"
      ],
      "execution_count": 9,
      "outputs": []
    },
    {
      "cell_type": "code",
      "metadata": {
        "id": "3TeGki80HNcu"
      },
      "source": [
        "model.compile(optimizer='adam', loss='categorical_crossentropy', metrics=['accuracy'])"
      ],
      "execution_count": 10,
      "outputs": []
    },
    {
      "cell_type": "code",
      "metadata": {
        "id": "khXwXEfuHTE0",
        "colab": {
          "base_uri": "https://localhost:8080/"
        },
        "outputId": "69eb490c-63e3-460a-fa37-c88531545df6"
      },
      "source": [
        "#Training process\n",
        "model.fit(x_train, y_train, validation_data=(x_test, y_test), epochs=5)"
      ],
      "execution_count": 11,
      "outputs": [
        {
          "output_type": "stream",
          "text": [
            "Epoch 1/5\n",
            "1875/1875 [==============================] - 8s 3ms/step - loss: 0.4509 - accuracy: 0.8484 - val_loss: 0.3948 - val_accuracy: 0.8615\n",
            "Epoch 2/5\n",
            "1875/1875 [==============================] - 5s 3ms/step - loss: 0.3029 - accuracy: 0.8937 - val_loss: 0.3856 - val_accuracy: 0.8691\n",
            "Epoch 3/5\n",
            "1875/1875 [==============================] - 5s 3ms/step - loss: 0.2387 - accuracy: 0.9146 - val_loss: 0.3854 - val_accuracy: 0.8715\n",
            "Epoch 4/5\n",
            "1875/1875 [==============================] - 5s 3ms/step - loss: 0.1928 - accuracy: 0.9323 - val_loss: 0.4089 - val_accuracy: 0.8705\n",
            "Epoch 5/5\n",
            "1875/1875 [==============================] - 5s 3ms/step - loss: 0.1543 - accuracy: 0.9445 - val_loss: 0.4477 - val_accuracy: 0.8660\n"
          ],
          "name": "stdout"
        },
        {
          "output_type": "execute_result",
          "data": {
            "text/plain": [
              "<tensorflow.python.keras.callbacks.History at 0x7f50e00fba90>"
            ]
          },
          "metadata": {
            "tags": []
          },
          "execution_count": 11
        }
      ]
    },
    {
      "cell_type": "code",
      "metadata": {
        "id": "tX-GJuBIHcaD",
        "colab": {
          "base_uri": "https://localhost:8080/"
        },
        "outputId": "39ad8822-ea56-4449-b5b1-b1e84a21af0d"
      },
      "source": [
        "#Model Predict\n",
        "y_pred = model.predict(x_test)\n",
        "y_pred"
      ],
      "execution_count": 12,
      "outputs": [
        {
          "output_type": "execute_result",
          "data": {
            "text/plain": [
              "array([[4.4494889e-05, 1.3169463e-06, 1.0321115e-05, ..., 2.2647237e-10,\n",
              "        8.7148123e-08, 5.8856578e-08],\n",
              "       [5.4054741e-05, 9.9993277e-01, 4.1222588e-06, ..., 7.5957469e-13,\n",
              "        2.6268032e-09, 5.2339303e-11],\n",
              "       [6.0807480e-03, 4.7512231e-08, 2.7489764e-06, ..., 4.8558744e-09,\n",
              "        1.8042943e-03, 2.4897589e-01],\n",
              "       ...,\n",
              "       [4.7417572e-07, 1.0532307e-06, 6.5825407e-06, ..., 1.1312280e-08,\n",
              "        2.7434378e-08, 6.4949934e-09],\n",
              "       [5.9157197e-04, 6.0885441e-01, 6.6820860e-02, ..., 3.3590686e-06,\n",
              "        1.6574284e-02, 6.2174367e-04],\n",
              "       [7.3402768e-01, 4.2068405e-07, 2.1116622e-03, ..., 1.2610199e-07,\n",
              "        9.8066215e-05, 3.6127039e-06]], dtype=float32)"
            ]
          },
          "metadata": {
            "tags": []
          },
          "execution_count": 12
        }
      ]
    },
    {
      "cell_type": "code",
      "metadata": {
        "colab": {
          "base_uri": "https://localhost:8080/"
        },
        "id": "eUIo-Gr1ydic",
        "outputId": "5ff132bd-4126-40ab-ad7f-08f05da579d0"
      },
      "source": [
        "# Round the prediction (Below 0.5 = 0 else 1)\n",
        "y_pred = (y_pred>0.5).astype(int)\n",
        "y_pred"
      ],
      "execution_count": 13,
      "outputs": [
        {
          "output_type": "execute_result",
          "data": {
            "text/plain": [
              "array([[0, 0, 0, ..., 0, 0, 0],\n",
              "       [0, 1, 0, ..., 0, 0, 0],\n",
              "       [0, 0, 0, ..., 0, 0, 0],\n",
              "       ...,\n",
              "       [0, 0, 0, ..., 0, 0, 0],\n",
              "       [0, 1, 0, ..., 0, 0, 0],\n",
              "       [1, 0, 0, ..., 0, 0, 0]])"
            ]
          },
          "metadata": {
            "tags": []
          },
          "execution_count": 13
        }
      ]
    },
    {
      "cell_type": "code",
      "metadata": {
        "colab": {
          "base_uri": "https://localhost:8080/"
        },
        "id": "9u3L_ekMxQ2u",
        "outputId": "2447da59-55e1-4c5a-ea1a-9ed5d63849e9"
      },
      "source": [
        "#Accuracy for the model\n",
        "accuracy_score(y_test, y_pred)"
      ],
      "execution_count": 14,
      "outputs": [
        {
          "output_type": "execute_result",
          "data": {
            "text/plain": [
              "0.8610666666666666"
            ]
          },
          "metadata": {
            "tags": []
          },
          "execution_count": 14
        }
      ]
    }
  ]
}